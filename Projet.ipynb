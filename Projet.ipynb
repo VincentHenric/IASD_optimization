{
 "cells": [
  {
   "cell_type": "code",
   "execution_count": 165,
   "metadata": {},
   "outputs": [
    {
     "name": "stdout",
     "output_type": "stream",
     "text": [
      "The autoreload extension is already loaded. To reload it, use:\n",
      "  %reload_ext autoreload\n"
     ]
    }
   ],
   "source": [
    "# dataset : http://staff.pubhealth.ku.dk/~tag/Teaching/share/data/Bodyfat.html\n",
    "%load_ext autoreload\n",
    "%autoreload 1\n",
    "\n",
    "import numpy as np\n",
    "import pandas as pd\n",
    "from matplotlib import pyplot as plt\n",
    "\n",
    "%aimport optim\n",
    "%aimport losses\n",
    "%aimport regularization"
   ]
  },
  {
   "cell_type": "code",
   "execution_count": 2,
   "metadata": {},
   "outputs": [],
   "source": [
    "def preprocess_X(X_train, X_test):\n",
    "    mean = np.mean(X_train,axis=0)\n",
    "    std = np.std(X_train,axis=0)\n",
    "    return (X_train-mean)/std, (X_test-mean)/std\n",
    "\n",
    "def preprocess_y(y_train, y_test):\n",
    "    mean = y_train.mean()\n",
    "    return y_train-mean, y_test-mean"
   ]
  },
  {
   "cell_type": "code",
   "execution_count": 135,
   "metadata": {},
   "outputs": [
    {
     "name": "stdout",
     "output_type": "stream",
     "text": [
      "201\n",
      "51\n",
      "252\n",
      "<class 'numpy.ndarray'>\n"
     ]
    },
    {
     "data": {
      "text/html": [
       "<div>\n",
       "<style scoped>\n",
       "    .dataframe tbody tr th:only-of-type {\n",
       "        vertical-align: middle;\n",
       "    }\n",
       "\n",
       "    .dataframe tbody tr th {\n",
       "        vertical-align: top;\n",
       "    }\n",
       "\n",
       "    .dataframe thead th {\n",
       "        text-align: right;\n",
       "    }\n",
       "</style>\n",
       "<table border=\"1\" class=\"dataframe\">\n",
       "  <thead>\n",
       "    <tr style=\"text-align: right;\">\n",
       "      <th></th>\n",
       "      <th>Density</th>\n",
       "      <th>bodyfat</th>\n",
       "      <th>Age</th>\n",
       "      <th>Weight</th>\n",
       "      <th>Height</th>\n",
       "      <th>Neck</th>\n",
       "      <th>Chest</th>\n",
       "      <th>Abdomen</th>\n",
       "      <th>Hip</th>\n",
       "      <th>Thigh</th>\n",
       "      <th>Knee</th>\n",
       "      <th>Ankle</th>\n",
       "      <th>Biceps</th>\n",
       "      <th>Forearm</th>\n",
       "      <th>Wrist</th>\n",
       "    </tr>\n",
       "  </thead>\n",
       "  <tbody>\n",
       "    <tr>\n",
       "      <td>0</td>\n",
       "      <td>1.0708</td>\n",
       "      <td>12.3</td>\n",
       "      <td>23</td>\n",
       "      <td>154.25</td>\n",
       "      <td>67.75</td>\n",
       "      <td>36.2</td>\n",
       "      <td>93.1</td>\n",
       "      <td>85.2</td>\n",
       "      <td>94.5</td>\n",
       "      <td>59.0</td>\n",
       "      <td>37.3</td>\n",
       "      <td>21.9</td>\n",
       "      <td>32.0</td>\n",
       "      <td>27.4</td>\n",
       "      <td>17.1</td>\n",
       "    </tr>\n",
       "    <tr>\n",
       "      <td>1</td>\n",
       "      <td>1.0853</td>\n",
       "      <td>6.1</td>\n",
       "      <td>22</td>\n",
       "      <td>173.25</td>\n",
       "      <td>72.25</td>\n",
       "      <td>38.5</td>\n",
       "      <td>93.6</td>\n",
       "      <td>83.0</td>\n",
       "      <td>98.7</td>\n",
       "      <td>58.7</td>\n",
       "      <td>37.3</td>\n",
       "      <td>23.4</td>\n",
       "      <td>30.5</td>\n",
       "      <td>28.9</td>\n",
       "      <td>18.2</td>\n",
       "    </tr>\n",
       "    <tr>\n",
       "      <td>2</td>\n",
       "      <td>1.0414</td>\n",
       "      <td>25.3</td>\n",
       "      <td>22</td>\n",
       "      <td>154.00</td>\n",
       "      <td>66.25</td>\n",
       "      <td>34.0</td>\n",
       "      <td>95.8</td>\n",
       "      <td>87.9</td>\n",
       "      <td>99.2</td>\n",
       "      <td>59.6</td>\n",
       "      <td>38.9</td>\n",
       "      <td>24.0</td>\n",
       "      <td>28.8</td>\n",
       "      <td>25.2</td>\n",
       "      <td>16.6</td>\n",
       "    </tr>\n",
       "    <tr>\n",
       "      <td>3</td>\n",
       "      <td>1.0751</td>\n",
       "      <td>10.4</td>\n",
       "      <td>26</td>\n",
       "      <td>184.75</td>\n",
       "      <td>72.25</td>\n",
       "      <td>37.4</td>\n",
       "      <td>101.8</td>\n",
       "      <td>86.4</td>\n",
       "      <td>101.2</td>\n",
       "      <td>60.1</td>\n",
       "      <td>37.3</td>\n",
       "      <td>22.8</td>\n",
       "      <td>32.4</td>\n",
       "      <td>29.4</td>\n",
       "      <td>18.2</td>\n",
       "    </tr>\n",
       "    <tr>\n",
       "      <td>4</td>\n",
       "      <td>1.0340</td>\n",
       "      <td>28.7</td>\n",
       "      <td>24</td>\n",
       "      <td>184.25</td>\n",
       "      <td>71.25</td>\n",
       "      <td>34.4</td>\n",
       "      <td>97.3</td>\n",
       "      <td>100.0</td>\n",
       "      <td>101.9</td>\n",
       "      <td>63.2</td>\n",
       "      <td>42.2</td>\n",
       "      <td>24.0</td>\n",
       "      <td>32.2</td>\n",
       "      <td>27.7</td>\n",
       "      <td>17.7</td>\n",
       "    </tr>\n",
       "  </tbody>\n",
       "</table>\n",
       "</div>"
      ],
      "text/plain": [
       "   Density  bodyfat  Age  Weight  Height  Neck  Chest  Abdomen    Hip  Thigh  \\\n",
       "0   1.0708     12.3   23  154.25   67.75  36.2   93.1     85.2   94.5   59.0   \n",
       "1   1.0853      6.1   22  173.25   72.25  38.5   93.6     83.0   98.7   58.7   \n",
       "2   1.0414     25.3   22  154.00   66.25  34.0   95.8     87.9   99.2   59.6   \n",
       "3   1.0751     10.4   26  184.75   72.25  37.4  101.8     86.4  101.2   60.1   \n",
       "4   1.0340     28.7   24  184.25   71.25  34.4   97.3    100.0  101.9   63.2   \n",
       "\n",
       "   Knee  Ankle  Biceps  Forearm  Wrist  \n",
       "0  37.3   21.9    32.0     27.4   17.1  \n",
       "1  37.3   23.4    30.5     28.9   18.2  \n",
       "2  38.9   24.0    28.8     25.2   16.6  \n",
       "3  37.3   22.8    32.4     29.4   18.2  \n",
       "4  42.2   24.0    32.2     27.7   17.7  "
      ]
     },
     "execution_count": 135,
     "metadata": {},
     "output_type": "execute_result"
    }
   ],
   "source": [
    "df = pd.read_csv('data/Bodyfat.csv')\n",
    "X = df.drop('bodyfat', axis=1).values\n",
    "y = df['bodyfat'].values[:,None]\n",
    "\n",
    "n,p = X.shape\n",
    "split = 0.2\n",
    "train_indices = np.random.choice(np.arange(len(X)), int((1-split) * len(X)), replace = False)\n",
    "test_indices = np.array(list(set(np.arange(len(X))).difference(set(train_indices))))\n",
    "\n",
    "print(len(train_indices))\n",
    "print(len(test_indices))\n",
    "print(len(X))\n",
    "\n",
    "X_train, X_test = preprocess_X(X[train_indices], X[test_indices])\n",
    "y_train, y_test = preprocess_y(y[train_indices], y[test_indices])\n",
    "\n",
    "print(type(X))\n",
    "df.head()"
   ]
  },
  {
   "cell_type": "code",
   "execution_count": 137,
   "metadata": {},
   "outputs": [],
   "source": [
    "def print_residuals(X,w,y):\n",
    "    plt.plot(X@w, '.-')\n",
    "    plt.plot(y, '.-')\n",
    "    plt.show()"
   ]
  },
  {
   "cell_type": "code",
   "execution_count": 157,
   "metadata": {},
   "outputs": [
    {
     "name": "stdout",
     "output_type": "stream",
     "text": [
      "97 8\n"
     ]
    }
   ],
   "source": [
    "#  convert to a column vector\n",
    "def MakeCol(y): return y.reshape(-1,1)\n",
    "#  convert to a row vector\n",
    "def MakeRow(y): return y.reshape(1,-1)\n",
    "# find non zero/true elements\n",
    "def find(x): return np.nonzero(x)[0]\n",
    "\n",
    "from scipy import io\n",
    "name = 'prostate';\n",
    "U = io.loadmat('nt_toolbox/data/ml-' + name)\n",
    "A = U['A']\n",
    "class_names = U['class_names']\n",
    "\n",
    "A = A[np.random.permutation(A.shape[0]),:]\n",
    "\n",
    "X = A[:,0:-2];\n",
    "y = MakeCol( A[:,-2] )\n",
    "c = MakeCol( A[:,-1] )\n",
    "\n",
    "[n,p] = X.shape\n",
    "print(n,p)\n",
    "\n",
    "I0 = find(c==1) # train\n",
    "I1 = find(c==0) # test\n",
    "n0 = I0.size\n",
    "n1 = n-n0\n",
    "X0 = X[I0,:]\n",
    "y0 = y[I0]\n",
    "X1 = X[I1,:]\n",
    "y1 = y[I1]\n",
    "\n",
    "mX0 = X0.mean(axis=0)\n",
    "sX0 = X0.std(axis=0)\n",
    "X_train = (X0-mX0)/sX0\n",
    "X_test = (X1-mX0)/sX0\n",
    "\n",
    "m0 = y0.mean()\n",
    "y_train = y0-m0\n",
    "y_test = y1-m0"
   ]
  },
  {
   "cell_type": "markdown",
   "metadata": {},
   "source": [
    "## Simple Linear Regression"
   ]
  },
  {
   "cell_type": "code",
   "execution_count": 158,
   "metadata": {},
   "outputs": [
    {
     "data": {
      "text/plain": [
       "array([[ 0.71104059],\n",
       "       [ 0.29045029],\n",
       "       [-0.14148182],\n",
       "       [ 0.21041951],\n",
       "       [ 0.30730025],\n",
       "       [-0.28684075],\n",
       "       [-0.02075686],\n",
       "       [ 0.27526843]])"
      ]
     },
     "execution_count": 158,
     "metadata": {},
     "output_type": "execute_result"
    }
   ],
   "source": [
    "w = np.linalg.solve(X_train.T @ X_train, X_train.T @ y_train)\n",
    "w"
   ]
  },
  {
   "cell_type": "code",
   "execution_count": 159,
   "metadata": {},
   "outputs": [
    {
     "data": {
      "image/png": "[encoded data removed]",
      "text/plain": [
       "<Figure size 432x288 with 1 Axes>"
      ]
     },
     "metadata": {
      "needs_background": "light"
     },
     "output_type": "display_data"
    },
    {
     "data": {
      "image/png": "[encoded data removed]",
      "text/plain": [
       "<Figure size 432x288 with 1 Axes>"
      ]
     },
     "metadata": {
      "needs_background": "light"
     },
     "output_type": "display_data"
    }
   ],
   "source": [
    "print_residuals(X_train,w,y_train)\n",
    "print_residuals(X_test,w,y_test)"
   ]
  },
  {
   "cell_type": "code",
   "execution_count": 160,
   "metadata": {},
   "outputs": [
    {
     "name": "stdout",
     "output_type": "stream",
     "text": [
      "5.424609152732425\n",
      "3.95451895497139\n",
      "0.5528370648963185\n",
      "0.7023447693100114\n"
     ]
    }
   ],
   "source": [
    "def mse(y_pred, y_true):\n",
    "    return np.linalg.norm(y_true - y_pred)\n",
    "\n",
    "def relative_mse(y_pred, y_true):\n",
    "    return np.linalg.norm(y_true - y_pred)/np.linalg.norm(y_true)\n",
    "\n",
    "print(mse(X_train@w, y_train))\n",
    "print(mse(X_test@w, y_test))\n",
    "\n",
    "print(relative_mse(X_train@w, y_train))\n",
    "print(relative_mse(X_test@w, y_test))"
   ]
  },
  {
   "cell_type": "markdown",
   "metadata": {},
   "source": [
    "## Ridge"
   ]
  },
  {
   "cell_type": "code",
   "execution_count": 88,
   "metadata": {},
   "outputs": [
    {
     "name": "stdout",
     "output_type": "stream",
     "text": [
      "CPU times: user 4 µs, sys: 1e+03 ns, total: 5 µs\n",
      "Wall time: 8.58 µs\n"
     ]
    },
    {
     "data": {
      "text/plain": [
       "array([-0.0176934 ,  0.0046695 ,  0.01104952, -0.00085101,  0.00871577,\n",
       "        0.01241248,  0.01454796,  0.01113953,  0.01039861,  0.00943046,\n",
       "        0.00483034,  0.00882033,  0.00678786,  0.00616465])"
      ]
     },
     "execution_count": 88,
     "metadata": {},
     "output_type": "execute_result"
    }
   ],
   "source": [
    "%time\n",
    "w = np.linalg.solve( X_train.T @ X_train + lbda * np.identity(p), X_train.T @ y_train)\n",
    "w"
   ]
  },
  {
   "cell_type": "code",
   "execution_count": 89,
   "metadata": {},
   "outputs": [
    {
     "name": "stdout",
     "output_type": "stream",
     "text": [
      "CPU times: user 4 µs, sys: 1 µs, total: 5 µs\n",
      "Wall time: 8.58 µs\n"
     ]
    },
    {
     "data": {
      "text/plain": [
       "array([-0.0176934 ,  0.0046695 ,  0.01104952, -0.00085101,  0.00871577,\n",
       "        0.01241248,  0.01454796,  0.01113953,  0.01039861,  0.00943046,\n",
       "        0.00483034,  0.00882033,  0.00678786,  0.00616465])"
      ]
     },
     "execution_count": 89,
     "metadata": {},
     "output_type": "execute_result"
    }
   ],
   "source": [
    "%time\n",
    "u = np.linalg.solve( X_train @ X_train.T + lbda * np.identity(len(X_train)), y_train)\n",
    "w2 = X_train.T @ u\n",
    "w2"
   ]
  },
  {
   "cell_type": "markdown",
   "metadata": {},
   "source": [
    "## Lasso"
   ]
  },
  {
   "cell_type": "code",
   "execution_count": 8,
   "metadata": {},
   "outputs": [],
   "source": [
    "def J(X, y, w, lbda):\n",
    "    return 1/2*np.linalg.norm(X.dot(w)-y)**2 + lbda*np.linalg.norm(w, 1)\n",
    "\n",
    "# losses.leastSquare.func(X, y, w) + Regularization.lasso(x, lbda)"
   ]
  },
  {
   "cell_type": "code",
   "execution_count": 254,
   "metadata": {},
   "outputs": [],
   "source": [
    "# take the operator norm of X\n",
    "X_norm = losses.LeastSquare.L(X_train)\n",
    "tau = 1.5/(X_norm**2)\n",
    "\n",
    "lmax = abs( X_train.transpose().dot(y_train) ).max()\n",
    "lbda = lmax /10"
   ]
  },
  {
   "cell_type": "code",
   "execution_count": 11,
   "metadata": {},
   "outputs": [
    {
     "data": {
      "image/png": "[encoded data removed]",
      "text/plain": [
       "<Figure size 432x288 with 1 Axes>"
      ]
     },
     "metadata": {
      "needs_background": "light"
     },
     "output_type": "display_data"
    }
   ],
   "source": [
    "t = np.linspace(-5,5,201)\n",
    "plt.clf\n",
    "plt.plot(t,Soft(t,2)) \n",
    "plt.axis('tight');"
   ]
  },
  {
   "cell_type": "code",
   "execution_count": 255,
   "metadata": {},
   "outputs": [],
   "source": [
    "iast = optim.IAST(losses.LeastSquare, 'lasso', lmax, lbda=lbda)"
   ]
  },
  {
   "cell_type": "code",
   "execution_count": 256,
   "metadata": {},
   "outputs": [
    {
     "data": {
      "text/plain": [
       "array([[ 0.572094  ],\n",
       "       [ 0.23325178],\n",
       "       [-0.        ],\n",
       "       [ 0.11641371],\n",
       "       [ 0.17945735],\n",
       "       [-0.        ],\n",
       "       [ 0.        ],\n",
       "       [ 0.07265907]])"
      ]
     },
     "execution_count": 256,
     "metadata": {},
     "output_type": "execute_result"
    }
   ],
   "source": [
    "iast.multiple_steps(X_train, y_train, tau, n=200)\n",
    "# iast.single_step(X_train, y_train, np.zeros((X_train.shape[1],1)), tau)"
   ]
  },
  {
   "cell_type": "code",
   "execution_count": 257,
   "metadata": {},
   "outputs": [
    {
     "data": {
      "image/png": "[encoded data removed]",
      "text/plain": [
       "<Figure size 432x288 with 2 Axes>"
      ]
     },
     "metadata": {
      "needs_background": "light"
     },
     "output_type": "display_data"
    }
   ],
   "source": [
    "n_iter = 400\n",
    "iast = optim.IAST(losses.LeastSquare, 'lasso', lmax, lbda=lbda)\n",
    "iast.multiple_steps(X_train, y_train, tau, n=n_iter)\n",
    "\n",
    "e=np.log10(iast.data['J'][:100]-np.min(iast.data['J']) +1e-20)\n",
    "\n",
    "plt.clf\n",
    "fig, ax = plt.subplots(2)\n",
    "ax[0].set_title('$J(w_k)$')\n",
    "ax[1].set_title('$log(J(w_k)-min J)$')\n",
    "\n",
    "ax[0].plot(iast.data['J'][:100]-iast.data['J'][-1])\n",
    "ax[1].plot(e-e[0])\n",
    "\n",
    "ax[0].axis('tight')\n",
    "ax[1].axis('tight')\n",
    "\n",
    "plt.show()"
   ]
  },
  {
   "cell_type": "code",
   "execution_count": 275,
   "metadata": {},
   "outputs": [
    {
     "name": "stdout",
     "output_type": "stream",
     "text": [
      "Lasso: 120.49218305949377%\n"
     ]
    }
   ],
   "source": [
    "n_iter = 400\n",
    "q = 200\n",
    "lbda_list = lmax*np.linspace(0.6,1e-3,q)\n",
    "\n",
    "E_train = np.zeros(q)\n",
    "E_test = np.zeros(q)\n",
    "W = np.zeros((q,n_iter,p))\n",
    "\n",
    "\n",
    "for i,lbda in enumerate(lbda_list):\n",
    "    iast = optim.IAST(losses.LeastSquare, 'lasso', lmax, lbda=lbda)\n",
    "    w = iast.multiple_steps(X_train, y_train, tau, n=n_iter)\n",
    "    \n",
    "    E_train[i] = iast.loss.loss(X_train,y_train,w)/np.linalg.norm(y_train)\n",
    "    E_test[i] = iast.loss.loss(X_test,y_test,w)/np.linalg.norm(y_test)\n",
    "    W[i] = iast.data['W']\n",
    "    \n",
    "# find optimal Lambda\n",
    "i = E_test.argmin()\n",
    "lambdaSparse = lbda_list[i]\n",
    "wSparse = W[i,-1,:]\n",
    "print( 'Lasso: ' + str(E_test.min()*100) + '%' )"
   ]
  },
  {
   "cell_type": "code",
   "execution_count": 292,
   "metadata": {},
   "outputs": [
    {
     "data": {
      "image/png": "[encoded data removed]",
      "text/plain": [
       "<Figure size 432x288 with 1 Axes>"
      ]
     },
     "metadata": {
      "needs_background": "light"
     },
     "output_type": "display_data"
    }
   ],
   "source": [
    "plt.clf\n",
    "plt.plot(lbda_list/lmax, 1/len(X_train) * E_train/len(X_train), label='training loss')\n",
    "plt.plot(lbda_list/lmax, 1/len(X_test) * E_test/len(X_test), label='test loss')\n",
    "plt.axvline(lambda0/lmax, color='red', linestyle='--')\n",
    "plt.xlabel('$\\lambda/|X^* y|_\\infty$')\n",
    "plt.legend()\n",
    "plt.show()"
   ]
  },
  {
   "cell_type": "code",
   "execution_count": 295,
   "metadata": {},
   "outputs": [
    {
     "data": {
      "image/png": "[encoded data removed]",
      "text/plain": [
       "<Figure size 432x288 with 1 Axes>"
      ]
     },
     "metadata": {
      "needs_background": "light"
     },
     "output_type": "display_data"
    }
   ],
   "source": [
    "for k in range(p):\n",
    "    plt.plot(lbda_list/lmax, W[:,-1,k])\n",
    "plt.xlabel('$\\lambda/|X^* y|_\\infty$')\n",
    "# plt.legend()\n",
    "plt.show()"
   ]
  },
  {
   "cell_type": "code",
   "execution_count": 218,
   "metadata": {},
   "outputs": [
    {
     "name": "stdout",
     "output_type": "stream",
     "text": [
      "23.658051753631096\n",
      "23.658051753631096\n"
     ]
    }
   ],
   "source": [
    "print(J(w,lbda))\n",
    "print(iast.loss.loss(X_train,y_train,w)+iast.regul(w, iast.lbda))"
   ]
  },
  {
   "cell_type": "code",
   "execution_count": 217,
   "metadata": {},
   "outputs": [],
   "source": [
    "def J(w,Lambda): return 1/2*np.linalg.norm(X_train.dot(w)-y_train)**2 + Lambda*np.linalg.norm(w,1)"
   ]
  },
  {
   "cell_type": "code",
   "execution_count": 213,
   "metadata": {},
   "outputs": [
    {
     "data": {
      "text/plain": [
       "array([[ 0.572094  ],\n",
       "       [ 0.23325178],\n",
       "       [-0.        ],\n",
       "       [ 0.11641371],\n",
       "       [ 0.17945735],\n",
       "       [-0.        ],\n",
       "       [ 0.        ],\n",
       "       [ 0.07265907]])"
      ]
     },
     "execution_count": 213,
     "metadata": {},
     "output_type": "execute_result"
    }
   ],
   "source": [
    "def Soft(x,s): return np.maximum( abs(x)-s, np.zeros(x.shape)  ) * np.sign(x)\n",
    "C = X_train.transpose().dot(X_train)\n",
    "u = X_train.transpose().dot(y_train)\n",
    "def ISTA(w,lbda,tau): return Soft( w-tau*( C.dot(w)-u ), lbda*tau )\n",
    "w = np.zeros((p,1))\n",
    "n_iter = 200\n",
    "for i in range(n_iter):\n",
    "    w = ISTA(w,lbda,tau)\n",
    "w"
   ]
  },
  {
   "cell_type": "markdown",
   "metadata": {},
   "source": [
    "### Check with scklearn"
   ]
  },
  {
   "cell_type": "code",
   "execution_count": 298,
   "metadata": {},
   "outputs": [],
   "source": [
    "from sklearn.linear_model import Lasso, Ridge, LassoCV\n",
    "from sklearn.metrics import mean_squared_error"
   ]
  },
  {
   "cell_type": "code",
   "execution_count": 302,
   "metadata": {},
   "outputs": [
    {
     "name": "stdout",
     "output_type": "stream",
     "text": [
      "[ 0.70802081  0.29017766 -0.13993456  0.20938804  0.30565984 -0.28109219\n",
      " -0.01702456  0.26956615]\n",
      "0.0008788804136615378\n"
     ]
    }
   ],
   "source": [
    "lasso = LassoCV(cv=5)\n",
    "lasso.fit(X_train, y_train.squeeze())\n",
    "print(lasso.coef_)\n",
    "print(lasso.alpha_)"
   ]
  },
  {
   "cell_type": "code",
   "execution_count": 305,
   "metadata": {},
   "outputs": [
    {
     "data": {
      "text/plain": [
       "array([ 0.56925341,  0.22406346, -0.        ,  0.09371537,  0.16258018,\n",
       "        0.        ,  0.        ,  0.05804608])"
      ]
     },
     "execution_count": 305,
     "metadata": {},
     "output_type": "execute_result"
    }
   ],
   "source": [
    "wSparse"
   ]
  },
  {
   "cell_type": "code",
   "execution_count": 246,
   "metadata": {},
   "outputs": [
    {
     "data": {
      "text/plain": [
       "7.46114027017436"
      ]
     },
     "execution_count": 246,
     "metadata": {},
     "output_type": "execute_result"
    }
   ],
   "source": [
    "mean_squared_error(lasso.predict(X), y)"
   ]
  },
  {
   "cell_type": "code",
   "execution_count": null,
   "metadata": {},
   "outputs": [],
   "source": []
  }
 ],
 "metadata": {
  "kernelspec": {
   "display_name": "Python 3",
   "language": "python",
   "name": "python3"
  },
  "language_info": {
   "codemirror_mode": {
    "name": "ipython",
    "version": 3
   },
   "file_extension": ".py",
   "mimetype": "text/x-python",
   "name": "python",
   "nbconvert_exporter": "python",
   "pygments_lexer": "ipython3",
   "version": "3.7.4"
  }
 },
 "nbformat": 4,
 "nbformat_minor": 2
}
